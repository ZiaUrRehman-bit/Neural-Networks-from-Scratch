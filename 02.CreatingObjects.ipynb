{
 "cells": [
  {
   "cell_type": "markdown",
   "metadata": {},
   "source": [
    "# <center>Neural Networks From Scratch</center>"
   ]
  },
  {
   "cell_type": "markdown",
   "metadata": {},
   "source": [
    "# Objects"
   ]
  },
  {
   "cell_type": "code",
   "execution_count": 1,
   "metadata": {},
   "outputs": [],
   "source": [
    "import numpy as np\n",
    "\n",
    "X = [[1, 2, 3, 2.5],\n",
    "     [2.0, 5.0, -1.0, 2.0],\n",
    "     [-1.5, 2.7, 3.3, -0.8]]  # X is inputs or training dataset\n",
    "\n",
    "\n",
    "class LayerDense:\n",
    "    def __init__(self, nInputs, nNeurons):\n",
    "        self.weights = 0.10*np.random.randn(nInputs, nNeurons)\n",
    "        self.biases = np.zeros((1, nNeurons))\n",
    "    def forward(self, inputs):\n",
    "        self.output = np.dot(inputs, self.weights) + self.biases"
   ]
  },
  {
   "cell_type": "code",
   "execution_count": 5,
   "metadata": {},
   "outputs": [
    {
     "name": "stdout",
     "output_type": "stream",
     "text": [
      "Input: \n",
      " [[1, 2, 3, 2.5], [2.0, 5.0, -1.0, 2.0], [-1.5, 2.7, 3.3, -0.8]]\n",
      "\n",
      "Weights for Layer1:\n",
      "[[ 0.08227853 -0.09808323  0.11162603]\n",
      " [ 0.0275336   0.04863479  0.01460379]\n",
      " [-0.25614348 -0.00333896 -0.03790899]\n",
      " [ 0.0159622   0.00251377  0.03718056]]\n",
      "\n",
      "Biases for Layer1:\n",
      "[[0. 0. 0.]]\n",
      "\n",
      "Output of Layer 1: \n",
      " [[-0.5911792  -0.00454609  0.12005803]\n",
      " [ 0.59029294  0.055374    0.40854114]\n",
      " [-0.9071203   0.26540919 -0.28285292]]\n",
      "______________________________________________________________\n",
      "Input: \n",
      " [[-0.5911792  -0.00454609  0.12005803]\n",
      " [ 0.59029294  0.055374    0.40854114]\n",
      " [-0.9071203   0.26540919 -0.28285292]]\n",
      "\n",
      "Weights for Layer2:\n",
      "[[-0.02726614  0.08602117]\n",
      " [-0.01727124  0.05598922]\n",
      " [ 0.10053023  0.07565505]]\n",
      "\n",
      "Biases for Layer2:\n",
      "[[0. 0.]]\n",
      "\n",
      "Output of Layer 2: \n",
      " [[ 0.02826715 -0.04202546]\n",
      " [ 0.02401934  0.08478624]\n",
      " [-0.00828554 -0.08457075]]\n"
     ]
    }
   ],
   "source": [
    "layer1 = LayerDense(4, 3)\n",
    "layer2 = LayerDense(3, 2)\n",
    "\n",
    "layer1.forward(X)\n",
    "layer2.forward(layer1.output)\n",
    "\n",
    "print(f\"Input: \\n {X}\\n\\nWeights for Layer1:\\n{layer1.weights}\\n\\nBiases for Layer1:\\n{layer1.biases}\\n\\nOutput of Layer 1: \\n {layer1.output}\")\n",
    "print(\"______________________________________________________________\")\n",
    "print(f\"Input: \\n {layer1.output}\\n\\nWeights for Layer2:\\n{layer2.weights}\\n\\nBiases for Layer2:\\n{layer2.biases}\\n\\nOutput of Layer 2: \\n {layer2.output}\")\n"
   ]
  },
  {
   "cell_type": "markdown",
   "metadata": {},
   "source": [
    "So, at the end we got two neurons with the size of 3 because the input size is 3."
   ]
  },
  {
   "cell_type": "code",
   "execution_count": null,
   "metadata": {},
   "outputs": [],
   "source": []
  }
 ],
 "metadata": {
  "kernelspec": {
   "display_name": "Python 3",
   "language": "python",
   "name": "python3"
  },
  "language_info": {
   "codemirror_mode": {
    "name": "ipython",
    "version": 3
   },
   "file_extension": ".py",
   "mimetype": "text/x-python",
   "name": "python",
   "nbconvert_exporter": "python",
   "pygments_lexer": "ipython3",
   "version": "3.11.4"
  }
 },
 "nbformat": 4,
 "nbformat_minor": 2
}
